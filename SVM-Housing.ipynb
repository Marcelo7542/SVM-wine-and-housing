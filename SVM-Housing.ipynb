{
 "cells": [
  {
   "cell_type": "code",
   "execution_count": 16,
   "id": "a349db44-4e99-4020-a68f-69616d7d70fb",
   "metadata": {},
   "outputs": [],
   "source": [
    "import numpy as np\n",
    "import pandas as pd\n",
    "from sklearn.datasets import fetch_california_housing\n",
    "from sklearn.pipeline import make_pipeline\n",
    "from sklearn.preprocessing import StandardScaler, PolynomialFeatures\n",
    "from sklearn.svm import LinearSVR, SVR\n",
    "from sklearn.metrics import  mean_squared_error\n",
    "from sklearn.model_selection import RandomizedSearchCV, train_test_split\n",
    "import matplotlib.pyplot as plt"
   ]
  },
  {
   "cell_type": "code",
   "execution_count": 17,
   "id": "3d42af6a-fac1-4658-8525-e0a72737f3c2",
   "metadata": {},
   "outputs": [],
   "source": [
    "data = fetch_california_housing()\n",
    "X = data.data\n",
    "y = data.target\n",
    "description = data.DESCR\n",
    "features = data.feature_names\n",
    "y_names = data.target_names"
   ]
  },
  {
   "cell_type": "code",
   "execution_count": 18,
   "id": "a9f9c073-bca8-4369-9a4d-df95826cfc08",
   "metadata": {},
   "outputs": [
    {
     "name": "stdout",
     "output_type": "stream",
     "text": [
      "Conjunto de dados (X):\n",
      " [[   8.3252       41.            6.98412698 ...    2.55555556\n",
      "    37.88       -122.23      ]\n",
      " [   8.3014       21.            6.23813708 ...    2.10984183\n",
      "    37.86       -122.22      ]\n",
      " [   7.2574       52.            8.28813559 ...    2.80225989\n",
      "    37.85       -122.24      ]\n",
      " ...\n",
      " [   1.7          17.            5.20554273 ...    2.3256351\n",
      "    39.43       -121.22      ]\n",
      " [   1.8672       18.            5.32951289 ...    2.12320917\n",
      "    39.43       -121.32      ]\n",
      " [   2.3886       16.            5.25471698 ...    2.61698113\n",
      "    39.37       -121.24      ]]\n",
      "Rótulos (y):\n",
      " [4.526 3.585 3.521 ... 0.923 0.847 0.894]\n",
      "Descrição do dataset:\n",
      " .. _california_housing_dataset:\n",
      "\n",
      "California Housing dataset\n",
      "--------------------------\n",
      "\n",
      "**Data Set Characteristics:**\n",
      "\n",
      ":Number of Instances: 20640\n",
      "\n",
      ":Number of Attributes: 8 numeric, predictive attributes and the target\n",
      "\n",
      ":Attribute Information:\n",
      "    - MedInc        median income in block group\n",
      "    - HouseAge      median house age in block group\n",
      "    - AveRooms      average number of rooms per household\n",
      "    - AveBedrms     average number of bedrooms per household\n",
      "    - Population    block group population\n",
      "    - AveOccup      average number of household members\n",
      "    - Latitude      block group latitude\n",
      "    - Longitude     block group longitude\n",
      "\n",
      ":Missing Attribute Values: None\n",
      "\n",
      "This dataset was obtained from the StatLib repository.\n",
      "https://www.dcc.fc.up.pt/~ltorgo/Regression/cal_housing.html\n",
      "\n",
      "The target variable is the median house value for California districts,\n",
      "expressed in hundreds of thousands of dollars ($100,000).\n",
      "\n",
      "This dataset was derived from the 1990 U.S. census, using one row per census\n",
      "block group. A block group is the smallest geographical unit for which the U.S.\n",
      "Census Bureau publishes sample data (a block group typically has a population\n",
      "of 600 to 3,000 people).\n",
      "\n",
      "A household is a group of people residing within a home. Since the average\n",
      "number of rooms and bedrooms in this dataset are provided per household, these\n",
      "columns may take surprisingly large values for block groups with few households\n",
      "and many empty houses, such as vacation resorts.\n",
      "\n",
      "It can be downloaded/loaded using the\n",
      ":func:`sklearn.datasets.fetch_california_housing` function.\n",
      "\n",
      ".. topic:: References\n",
      "\n",
      "    - Pace, R. Kelley and Ronald Barry, Sparse Spatial Autoregressions,\n",
      "      Statistics and Probability Letters, 33 (1997) 291-297\n",
      "\n",
      "Características (features):\n",
      " ['MedInc', 'HouseAge', 'AveRooms', 'AveBedrms', 'Population', 'AveOccup', 'Latitude', 'Longitude']\n",
      "Classes (target names):\n",
      " ['MedHouseVal']\n"
     ]
    }
   ],
   "source": [
    "print(\"Conjunto de dados (X):\\n\", X)\n",
    "print(\"Rótulos (y):\\n\",  y)\n",
    "print(\"Descrição do dataset:\\n\", data.DESCR)\n",
    "print(\"Características (features):\\n\", data.feature_names)\n",
    "print(\"Classes (target names):\\n\", data.target_names)"
   ]
  },
  {
   "cell_type": "code",
   "execution_count": 19,
   "id": "7e93202b-6569-43d6-9a5c-9143140fa0d7",
   "metadata": {},
   "outputs": [],
   "source": [
    "X_train, X_test, Y_train, Y_test = train_test_split(X, y, test_size=0.2, random_state=60)"
   ]
  },
  {
   "cell_type": "code",
   "execution_count": 20,
   "id": "7ef528d9-91e0-41fa-a4d3-5c15b32550ca",
   "metadata": {},
   "outputs": [],
   "source": [
    "modelo_svr = make_pipeline(\n",
    "    PolynomialFeatures(),\n",
    "    StandardScaler(),\n",
    "    LinearSVR(random_state= 60, max_iter = 10000)\n",
    ")"
   ]
  },
  {
   "cell_type": "code",
   "execution_count": 21,
   "id": "8ade8a92-9a24-4291-aae7-f2830a19c58a",
   "metadata": {},
   "outputs": [],
   "source": [
    "param_grid = {\n",
    "    'polynomialfeatures__degree': [1, 2, 3, 4, 5],\n",
    "    'linearsvr__epsilon': np.linspace(0.01, 1.5, 100),\n",
    "    'linearsvr__tol': np.linspace(0.00001, 0.1, 100),\n",
    "    'linearsvr__C': np.linspace(0.1, 10, 20),\n",
    "    'linearsvr__loss': ['epsilon_insensitive', 'squared_epsilon_insensitive'],\n",
    "    'linearsvr__fit_intercept': [True, False],\n",
    "    'linearsvr__intercept_scaling': np.linspace(0.1, 1.5, 50),\n",
    "    'linearsvr__dual': [False, True]\n",
    "}"
   ]
  },
  {
   "cell_type": "code",
   "execution_count": null,
   "id": "449a8a63-d37b-4006-ba3c-8587a886c8d2",
   "metadata": {},
   "outputs": [],
   "source": [
    "model_svm_linear = RandomizedSearchCV(modelo_svr, param_grid,n_iter=100, random_state=60)\n",
    "model_svm_linear.fit(X_train, Y_train)"
   ]
  },
  {
   "cell_type": "code",
   "execution_count": 23,
   "id": "a21f3a16-55aa-48cc-ad3b-5bbd2ef984b5",
   "metadata": {},
   "outputs": [
    {
     "name": "stdout",
     "output_type": "stream",
     "text": [
      "Mean Squared Error: 0.5540102354757618\n",
      "Best parameters found: {'polynomialfeatures__degree': 1, 'linearsvr__tol': 0.01415, 'linearsvr__loss': 'epsilon_insensitive', 'linearsvr__intercept_scaling': 0.5, 'linearsvr__fit_intercept': True, 'linearsvr__epsilon': 0.9431313131313132, 'linearsvr__dual': True, 'linearsvr__C': 1.6631578947368424}\n"
     ]
    }
   ],
   "source": [
    "pred = model_svm_linear.predict(X_test)\n",
    "mse = mean_squared_error(Y_test, pred)\n",
    "print(\"Mean Squared Error:\", mse)\n",
    "print(\"Best parameters found:\", model_svm_linear.best_params_)"
   ]
  },
  {
   "cell_type": "code",
   "execution_count": 32,
   "id": "18cf0c3b-1412-40d8-83cd-9b093f1e6d41",
   "metadata": {},
   "outputs": [],
   "source": [
    "pipeline = make_pipeline(\n",
    "    StandardScaler(),\n",
    "    SVR(max_iter = 10000)\n",
    ")"
   ]
  },
  {
   "cell_type": "code",
   "execution_count": 38,
   "id": "9d5f866a-14df-4896-8b79-fb3781ef0305",
   "metadata": {},
   "outputs": [],
   "source": [
    "param_grid = {\n",
    "    'svr__epsilon': np.linspace(0.01, 1, 20),\n",
    "    'svr__tol': np.logspace(-6, -2, 10),\n",
    "    'svr__C': np.logspace(-2, 3, 15),\n",
    "    'svr__kernel': ['linear', 'rbf'],\n",
    "    'svr__gamma': np.logspace(-3, 2, 15),\n",
    "}"
   ]
  },
  {
   "cell_type": "code",
   "execution_count": null,
   "id": "6231044f-d591-4646-92e6-4865998d7834",
   "metadata": {},
   "outputs": [],
   "source": [
    "modelo = RandomizedSearchCV(pipeline, param_grid, n_iter=200, random_state=60)\n",
    "modelo.fit(X_train, Y_train)"
   ]
  },
  {
   "cell_type": "code",
   "execution_count": 40,
   "id": "8453873c-4917-48b1-998a-346ef09fc970",
   "metadata": {},
   "outputs": [
    {
     "name": "stdout",
     "output_type": "stream",
     "text": [
      "Mean Squared Error: 0.30018841811845687\n",
      "Best parameters found: {'svr__tol': 0.0001668100537200059, 'svr__kernel': 'rbf', 'svr__gamma': 0.31622776601683794, 'svr__epsilon': 0.4268421052631579, 'svr__C': 7.196856730011521}\n"
     ]
    }
   ],
   "source": [
    "\n",
    "pred = modelo.predict(X_test)\n",
    "mse = mean_squared_error(Y_test, pred)\n",
    "\n",
    "print(\"Mean Squared Error:\", mse)\n",
    "print(\"Best parameters found:\", modelo.best_params_)"
   ]
  },
  {
   "cell_type": "code",
   "execution_count": null,
   "id": "4ef220d7-e00a-48de-ba9e-e3692751138e",
   "metadata": {},
   "outputs": [],
   "source": []
  }
 ],
 "metadata": {
  "kernelspec": {
   "display_name": "Python 3 (ipykernel)",
   "language": "python",
   "name": "python3"
  },
  "language_info": {
   "codemirror_mode": {
    "name": "ipython",
    "version": 3
   },
   "file_extension": ".py",
   "mimetype": "text/x-python",
   "name": "python",
   "nbconvert_exporter": "python",
   "pygments_lexer": "ipython3",
   "version": "3.11.7"
  }
 },
 "nbformat": 4,
 "nbformat_minor": 5
}
